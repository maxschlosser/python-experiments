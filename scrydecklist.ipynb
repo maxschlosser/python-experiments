{
 "cells": [
  {
   "cell_type": "markdown",
   "metadata": {},
   "source": [
    "Import required packages and load card names."
   ]
  },
  {
   "cell_type": "code",
   "execution_count": 58,
   "metadata": {},
   "outputs": [],
   "source": [
    "import re\n",
    "\n",
    "with(open('decklist.mtgo', 'r')) as decklist:\n",
    "    card_names = decklist.readlines()\n",
    "    card_names = [re.sub('[1-9]* ', '',  card.strip()) for card in card_names]\n",
    "\n",
    "del decklist"
   ]
  },
  {
   "cell_type": "markdown",
   "metadata": {},
   "source": [
    "Get card information"
   ]
  },
  {
   "cell_type": "code",
   "execution_count": 59,
   "metadata": {},
   "outputs": [],
   "source": [
    "def get_card_info(cardjs):\n",
    "    layout = cardjs['layout']\n",
    "    oracle = []\n",
    "    crop = \"\"\n",
    "    if layout == 'split':\n",
    "        for face in cardjs[\"card_faces\"]:\n",
    "            oracle.append(face['oracle_text'])\n",
    "        crop = cardjs[\"image_uris\"][\"border_crop\"]\n",
    "    elif layout == 'transform':\n",
    "        for face in cardjs[\"card_faces\"]:\n",
    "            oracle.append(face['oracle_text'])\n",
    "        crop = cardjs[\"card_faces\"][0][\"image_uris\"][\"border_crop\"]\n",
    "    else:\n",
    "        oracle.append(cardjs['oracle_text'])\n",
    "        crop = cardjs[\"image_uris\"][\"border_crop\"]\n",
    "    name = re.sub(\"[^a-z1-9-]*\", \"\", cardjs['name'].lower().replace(\" \", \"-\"))\n",
    "    if crop == \"\":\n",
    "        print(json.dumps(cardjs,indent=4))\n",
    "        exit\n",
    "    return([name, crop, oracle])"
   ]
  },
  {
   "cell_type": "code",
   "execution_count": 60,
   "metadata": {},
   "outputs": [
    {
     "name": "stdout",
     "output_type": "stream",
     "text": [
      "Error getting .\n",
      "<Response [400]>\n"
     ]
    }
   ],
   "source": [
    "import requests\n",
    "import json\n",
    "import time\n",
    "\n",
    "api_url = \"https://api.scryfall.com/cards\"\n",
    "cards = []\n",
    "for card in card_names:\n",
    "    card_resp = requests.get(f\"{api_url}/named?exact={card}\")\n",
    "    if card_resp.status_code == 200:\n",
    "        cardjs = json.loads(card_resp.text)\n",
    "        cards.append(get_card_info(cardjs))\n",
    "    elif card_resp.status_code == 429:\n",
    "        print(f\"Got 429, backing off.\")\n",
    "        exit\n",
    "    else:\n",
    "        print(f\"Error getting {card}.\")\n",
    "        print(card_resp)\n",
    "    time.sleep(0.05)"
   ]
  },
  {
   "cell_type": "code",
   "execution_count": 61,
   "metadata": {},
   "outputs": [],
   "source": [
    "import os\n",
    "import shutil\n",
    "\n",
    "os.makedirs(\"img\", exist_ok=True)\n",
    "os.makedirs(\"pdf\", exist_ok=True)\n",
    "for card in cards:\n",
    "    with(open(f\"img/{card[0]}.jpg\", \"wb\")) as imagefile:\n",
    "        img_resp = requests.get(card[1], stream=True)\n",
    "        if(img_resp.status_code == 429):\n",
    "            print(\"Got 429, backing off\")\n",
    "            exit\n",
    "        elif(img_resp.status_code == 200):\n",
    "            shutil.copyfileobj(img_resp.raw, imagefile)\n",
    "        else:\n",
    "            print(f\"Error downloading image for {card[0]}.\")\n",
    "        time.sleep(0.05)\n",
    "    del imagefile"
   ]
  },
  {
   "cell_type": "code",
   "execution_count": null,
   "metadata": {},
   "outputs": [],
   "source": [
    "from reportlab.pdfgen import canvas\n",
    "from reportlab.lib.pagesizes import A4\n",
    "from reportlab.platypus import Paragraph\n",
    "from reportlab.lib.styles import getSampleStyleSheet\n",
    "ss = getSampleStyleSheet()['BodyText']\n",
    "ss.fontSize = 10\n",
    "x_offset = 5\n",
    "y_offset = 5\n",
    "x_count = 2\n",
    "y_count = 5\n",
    "width, height = A4\n",
    "cellwidth = (width-2*x_offset) / x_count\n",
    "cellheight = (height-2*y_offset) / y_count\n",
    "cells = [(cellwidth*j+x_offset, cellheight*i+y_offset)  for i in range(0,y_count+1) for j in range(0,x_count+1)]\n",
    "\n",
    "draw_cells = filter(lambda cell: cell[0]<(width-x_offset) and cell[1]<(height-y_offset), sorted(cells))\n",
    "pdf = canvas.Canvas(\"pdf/cards.pdf\", pagesize=A4)\n",
    "pdf.grid([cell[0] for cell in cells], [cell[1] for cell in cells])\n",
    "\n",
    "i = 0\n",
    "for card in cards:\n",
    "    text = \"<br/>\".join(card[2])\n",
    "    i = i+1 \n",
    "    cell = next(draw_cells)\n",
    "    imgw, imgh = pdf.drawImage(f\"img/{card[0]}.jpg\", cell[0]+x_offset, cell[1]+y_offset, height=cellheight-10, anchor='w',preserveAspectRatio=True)\n",
    "    width_offset = (imgw*((cellheight-10)/imgh)+2*x_offset)\n",
    "    p = Paragraph(text, ss)\n",
    "    w, h = p.wrapOn(pdf, cellwidth-width_offset-5, cellheight-y_offset)\n",
    "    while(h>cellheight-2*y_offset):\n",
    "        ss.fontSize = ss.fontSize - 1\n",
    "        p = Paragraph(p.getPlainText(), ss)\n",
    "        _, h = p.wrapOn(pdf, cellwidth-width_offset-5, cellheight-y_offset)\n",
    "    p.drawOn(pdf, cell[0]+width_offset, cell[1]+(cellheight-h)-y_offset)\n",
    "    ss.fontSize = 10\n",
    "    if i == x_count*y_count:\n",
    "        pdf.showPage()\n",
    "        draw_cells = filter(lambda cell: cell[0]<(width-x_offset) and cell[1]<(height-y_offset), sorted(cells))\n",
    "        pdf.grid([cell[0] for cell in cells], [cell[1] for cell in cells])\n",
    "        i = 0\n",
    "pdf.save()"
   ]
  }
 ],
 "metadata": {
  "kernelspec": {
   "display_name": "Python 3.8.10 ('env': venv)",
   "language": "python",
   "name": "python3"
  },
  "language_info": {
   "codemirror_mode": {
    "name": "ipython",
    "version": 3
   },
   "file_extension": ".py",
   "mimetype": "text/x-python",
   "name": "python",
   "nbconvert_exporter": "python",
   "pygments_lexer": "ipython3",
   "version": "3.8.10"
  },
  "orig_nbformat": 4,
  "vscode": {
   "interpreter": {
    "hash": "841059ae1e43ccb343cf5fcda7520f017975dc6f5727844f4cf73fcfb039ed42"
   }
  }
 },
 "nbformat": 4,
 "nbformat_minor": 2
}
